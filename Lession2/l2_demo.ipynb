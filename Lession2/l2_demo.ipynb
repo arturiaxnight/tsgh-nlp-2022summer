{
 "cells": [
  {
   "cell_type": "markdown",
   "metadata": {},
   "source": [
    "# Transformer, NLP, BERT 簡介及 Tensorflow Hub之使用"
   ]
  },
  {
   "cell_type": "markdown",
   "metadata": {},
   "source": [
    "### Tensorflow-text\n",
    "https://www.tensorflow.org/text"
   ]
  },
  {
   "cell_type": "code",
   "execution_count": 2,
   "metadata": {},
   "outputs": [
    {
     "name": "stdout",
     "output_type": "stream",
     "text": [
      "Requirement already satisfied: tensorflow-text in /home/gunpow/mambaforge/envs/tsgh-nlp-2022summer/lib/python3.9/site-packages (2.9.0)\n",
      "Requirement already satisfied: tf-models-official in /home/gunpow/mambaforge/envs/tsgh-nlp-2022summer/lib/python3.9/site-packages (2.9.2)\n",
      "Requirement already satisfied: tensorflow_hub in /home/gunpow/mambaforge/envs/tsgh-nlp-2022summer/lib/python3.9/site-packages (0.12.0)\n",
      "Requirement already satisfied: tensorflow<2.10,>=2.9.0 in /home/gunpow/mambaforge/envs/tsgh-nlp-2022summer/lib/python3.9/site-packages (from tensorflow-text) (2.9.1)\n",
      "Requirement already satisfied: py-cpuinfo>=3.3.0 in /home/gunpow/mambaforge/envs/tsgh-nlp-2022summer/lib/python3.9/site-packages (from tf-models-official) (8.0.0)\n",
      "Requirement already satisfied: kaggle>=1.3.9 in /home/gunpow/mambaforge/envs/tsgh-nlp-2022summer/lib/python3.9/site-packages (from tf-models-official) (1.5.12)\n",
      "Requirement already satisfied: tensorflow-addons in /home/gunpow/mambaforge/envs/tsgh-nlp-2022summer/lib/python3.9/site-packages (from tf-models-official) (0.17.1)\n",
      "Requirement already satisfied: pycocotools in /home/gunpow/mambaforge/envs/tsgh-nlp-2022summer/lib/python3.9/site-packages (from tf-models-official) (2.0.4)\n",
      "Requirement already satisfied: scipy>=0.19.1 in /home/gunpow/mambaforge/envs/tsgh-nlp-2022summer/lib/python3.9/site-packages (from tf-models-official) (1.8.1)\n",
      "Requirement already satisfied: matplotlib in /home/gunpow/mambaforge/envs/tsgh-nlp-2022summer/lib/python3.9/site-packages (from tf-models-official) (3.5.2)\n",
      "Requirement already satisfied: psutil>=5.4.3 in /home/gunpow/mambaforge/envs/tsgh-nlp-2022summer/lib/python3.9/site-packages (from tf-models-official) (5.9.1)\n",
      "Requirement already satisfied: six in /home/gunpow/mambaforge/envs/tsgh-nlp-2022summer/lib/python3.9/site-packages (from tf-models-official) (1.16.0)\n",
      "Requirement already satisfied: sacrebleu in /home/gunpow/mambaforge/envs/tsgh-nlp-2022summer/lib/python3.9/site-packages (from tf-models-official) (2.1.0)\n",
      "Requirement already satisfied: seqeval in /home/gunpow/mambaforge/envs/tsgh-nlp-2022summer/lib/python3.9/site-packages (from tf-models-official) (1.2.2)\n",
      "Requirement already satisfied: pandas>=0.22.0 in /home/gunpow/mambaforge/envs/tsgh-nlp-2022summer/lib/python3.9/site-packages (from tf-models-official) (1.4.3)\n",
      "Requirement already satisfied: numpy>=1.20 in /home/gunpow/mambaforge/envs/tsgh-nlp-2022summer/lib/python3.9/site-packages (from tf-models-official) (1.23.1)\n",
      "Requirement already satisfied: opencv-python-headless in /home/gunpow/mambaforge/envs/tsgh-nlp-2022summer/lib/python3.9/site-packages (from tf-models-official) (4.6.0.66)\n",
      "Requirement already satisfied: Pillow in /home/gunpow/mambaforge/envs/tsgh-nlp-2022summer/lib/python3.9/site-packages (from tf-models-official) (9.2.0)\n",
      "Requirement already satisfied: Cython in /home/gunpow/mambaforge/envs/tsgh-nlp-2022summer/lib/python3.9/site-packages (from tf-models-official) (0.29.30)\n",
      "Requirement already satisfied: tf-slim>=1.1.0 in /home/gunpow/mambaforge/envs/tsgh-nlp-2022summer/lib/python3.9/site-packages (from tf-models-official) (1.1.0)\n",
      "Requirement already satisfied: gin-config in /home/gunpow/mambaforge/envs/tsgh-nlp-2022summer/lib/python3.9/site-packages (from tf-models-official) (0.5.0)\n",
      "Requirement already satisfied: google-api-python-client>=1.6.7 in /home/gunpow/mambaforge/envs/tsgh-nlp-2022summer/lib/python3.9/site-packages (from tf-models-official) (2.52.0)\n",
      "Requirement already satisfied: oauth2client in /home/gunpow/mambaforge/envs/tsgh-nlp-2022summer/lib/python3.9/site-packages (from tf-models-official) (4.1.3)\n",
      "Requirement already satisfied: tensorflow-datasets in /home/gunpow/mambaforge/envs/tsgh-nlp-2022summer/lib/python3.9/site-packages (from tf-models-official) (4.6.0)\n",
      "Requirement already satisfied: pyyaml<6.0,>=5.1 in /home/gunpow/mambaforge/envs/tsgh-nlp-2022summer/lib/python3.9/site-packages (from tf-models-official) (5.4.1)\n",
      "Requirement already satisfied: sentencepiece in /home/gunpow/mambaforge/envs/tsgh-nlp-2022summer/lib/python3.9/site-packages (from tf-models-official) (0.1.96)\n",
      "Requirement already satisfied: tensorflow-model-optimization>=0.4.1 in /home/gunpow/mambaforge/envs/tsgh-nlp-2022summer/lib/python3.9/site-packages (from tf-models-official) (0.7.2)\n",
      "Requirement already satisfied: protobuf>=3.8.0 in /home/gunpow/mambaforge/envs/tsgh-nlp-2022summer/lib/python3.9/site-packages (from tensorflow_hub) (3.19.4)\n",
      "Requirement already satisfied: google-auth<3.0.0dev,>=1.19.0 in /home/gunpow/mambaforge/envs/tsgh-nlp-2022summer/lib/python3.9/site-packages (from google-api-python-client>=1.6.7->tf-models-official) (2.9.0)\n",
      "Requirement already satisfied: google-auth-httplib2>=0.1.0 in /home/gunpow/mambaforge/envs/tsgh-nlp-2022summer/lib/python3.9/site-packages (from google-api-python-client>=1.6.7->tf-models-official) (0.1.0)\n",
      "Requirement already satisfied: uritemplate<5,>=3.0.1 in /home/gunpow/mambaforge/envs/tsgh-nlp-2022summer/lib/python3.9/site-packages (from google-api-python-client>=1.6.7->tf-models-official) (4.1.1)\n",
      "Requirement already satisfied: google-api-core!=2.0.*,!=2.1.*,!=2.2.*,!=2.3.0,<3.0.0dev,>=1.31.5 in /home/gunpow/mambaforge/envs/tsgh-nlp-2022summer/lib/python3.9/site-packages (from google-api-python-client>=1.6.7->tf-models-official) (2.8.2)\n",
      "Requirement already satisfied: httplib2<1dev,>=0.15.0 in /home/gunpow/mambaforge/envs/tsgh-nlp-2022summer/lib/python3.9/site-packages (from google-api-python-client>=1.6.7->tf-models-official) (0.20.4)\n",
      "Requirement already satisfied: requests in /home/gunpow/mambaforge/envs/tsgh-nlp-2022summer/lib/python3.9/site-packages (from kaggle>=1.3.9->tf-models-official) (2.28.1)\n",
      "Requirement already satisfied: python-slugify in /home/gunpow/mambaforge/envs/tsgh-nlp-2022summer/lib/python3.9/site-packages (from kaggle>=1.3.9->tf-models-official) (6.1.2)\n",
      "Requirement already satisfied: tqdm in /home/gunpow/mambaforge/envs/tsgh-nlp-2022summer/lib/python3.9/site-packages (from kaggle>=1.3.9->tf-models-official) (4.64.0)\n",
      "Requirement already satisfied: urllib3 in /home/gunpow/mambaforge/envs/tsgh-nlp-2022summer/lib/python3.9/site-packages (from kaggle>=1.3.9->tf-models-official) (1.26.10)\n",
      "Requirement already satisfied: python-dateutil in /home/gunpow/mambaforge/envs/tsgh-nlp-2022summer/lib/python3.9/site-packages (from kaggle>=1.3.9->tf-models-official) (2.8.2)\n",
      "Requirement already satisfied: certifi in /home/gunpow/mambaforge/envs/tsgh-nlp-2022summer/lib/python3.9/site-packages (from kaggle>=1.3.9->tf-models-official) (2022.6.15)\n",
      "Requirement already satisfied: pytz>=2020.1 in /home/gunpow/mambaforge/envs/tsgh-nlp-2022summer/lib/python3.9/site-packages (from pandas>=0.22.0->tf-models-official) (2022.1)\n",
      "Requirement already satisfied: tensorflow-estimator<2.10.0,>=2.9.0rc0 in /home/gunpow/mambaforge/envs/tsgh-nlp-2022summer/lib/python3.9/site-packages (from tensorflow<2.10,>=2.9.0->tensorflow-text) (2.9.0)\n",
      "Requirement already satisfied: grpcio<2.0,>=1.24.3 in /home/gunpow/mambaforge/envs/tsgh-nlp-2022summer/lib/python3.9/site-packages (from tensorflow<2.10,>=2.9.0->tensorflow-text) (1.47.0)\n",
      "Requirement already satisfied: h5py>=2.9.0 in /home/gunpow/mambaforge/envs/tsgh-nlp-2022summer/lib/python3.9/site-packages (from tensorflow<2.10,>=2.9.0->tensorflow-text) (3.7.0)\n",
      "Requirement already satisfied: tensorflow-io-gcs-filesystem>=0.23.1 in /home/gunpow/mambaforge/envs/tsgh-nlp-2022summer/lib/python3.9/site-packages (from tensorflow<2.10,>=2.9.0->tensorflow-text) (0.26.0)\n",
      "Requirement already satisfied: packaging in /home/gunpow/mambaforge/envs/tsgh-nlp-2022summer/lib/python3.9/site-packages (from tensorflow<2.10,>=2.9.0->tensorflow-text) (21.3)\n",
      "Requirement already satisfied: keras<2.10.0,>=2.9.0rc0 in /home/gunpow/mambaforge/envs/tsgh-nlp-2022summer/lib/python3.9/site-packages (from tensorflow<2.10,>=2.9.0->tensorflow-text) (2.9.0)\n",
      "Requirement already satisfied: keras-preprocessing>=1.1.1 in /home/gunpow/mambaforge/envs/tsgh-nlp-2022summer/lib/python3.9/site-packages (from tensorflow<2.10,>=2.9.0->tensorflow-text) (1.1.2)\n",
      "Requirement already satisfied: typing-extensions>=3.6.6 in /home/gunpow/mambaforge/envs/tsgh-nlp-2022summer/lib/python3.9/site-packages (from tensorflow<2.10,>=2.9.0->tensorflow-text) (4.3.0)\n",
      "Requirement already satisfied: termcolor>=1.1.0 in /home/gunpow/mambaforge/envs/tsgh-nlp-2022summer/lib/python3.9/site-packages (from tensorflow<2.10,>=2.9.0->tensorflow-text) (1.1.0)\n",
      "Requirement already satisfied: libclang>=13.0.0 in /home/gunpow/mambaforge/envs/tsgh-nlp-2022summer/lib/python3.9/site-packages (from tensorflow<2.10,>=2.9.0->tensorflow-text) (14.0.1)\n",
      "Requirement already satisfied: wrapt>=1.11.0 in /home/gunpow/mambaforge/envs/tsgh-nlp-2022summer/lib/python3.9/site-packages (from tensorflow<2.10,>=2.9.0->tensorflow-text) (1.14.1)\n",
      "Requirement already satisfied: tensorboard<2.10,>=2.9 in /home/gunpow/mambaforge/envs/tsgh-nlp-2022summer/lib/python3.9/site-packages (from tensorflow<2.10,>=2.9.0->tensorflow-text) (2.9.1)\n",
      "Requirement already satisfied: astunparse>=1.6.0 in /home/gunpow/mambaforge/envs/tsgh-nlp-2022summer/lib/python3.9/site-packages (from tensorflow<2.10,>=2.9.0->tensorflow-text) (1.6.3)\n",
      "Requirement already satisfied: flatbuffers<2,>=1.12 in /home/gunpow/mambaforge/envs/tsgh-nlp-2022summer/lib/python3.9/site-packages (from tensorflow<2.10,>=2.9.0->tensorflow-text) (1.12)\n",
      "Requirement already satisfied: google-pasta>=0.1.1 in /home/gunpow/mambaforge/envs/tsgh-nlp-2022summer/lib/python3.9/site-packages (from tensorflow<2.10,>=2.9.0->tensorflow-text) (0.2.0)\n",
      "Requirement already satisfied: opt-einsum>=2.3.2 in /home/gunpow/mambaforge/envs/tsgh-nlp-2022summer/lib/python3.9/site-packages (from tensorflow<2.10,>=2.9.0->tensorflow-text) (3.3.0)\n",
      "Requirement already satisfied: gast<=0.4.0,>=0.2.1 in /home/gunpow/mambaforge/envs/tsgh-nlp-2022summer/lib/python3.9/site-packages (from tensorflow<2.10,>=2.9.0->tensorflow-text) (0.4.0)\n",
      "Requirement already satisfied: setuptools in /home/gunpow/mambaforge/envs/tsgh-nlp-2022summer/lib/python3.9/site-packages (from tensorflow<2.10,>=2.9.0->tensorflow-text) (63.1.0)\n",
      "Requirement already satisfied: absl-py>=1.0.0 in /home/gunpow/mambaforge/envs/tsgh-nlp-2022summer/lib/python3.9/site-packages (from tensorflow<2.10,>=2.9.0->tensorflow-text) (1.1.0)\n",
      "Requirement already satisfied: dm-tree~=0.1.1 in /home/gunpow/mambaforge/envs/tsgh-nlp-2022summer/lib/python3.9/site-packages (from tensorflow-model-optimization>=0.4.1->tf-models-official) (0.1.7)\n",
      "Requirement already satisfied: fonttools>=4.22.0 in /home/gunpow/mambaforge/envs/tsgh-nlp-2022summer/lib/python3.9/site-packages (from matplotlib->tf-models-official) (4.34.4)\n",
      "Requirement already satisfied: cycler>=0.10 in /home/gunpow/mambaforge/envs/tsgh-nlp-2022summer/lib/python3.9/site-packages (from matplotlib->tf-models-official) (0.11.0)\n",
      "Requirement already satisfied: kiwisolver>=1.0.1 in /home/gunpow/mambaforge/envs/tsgh-nlp-2022summer/lib/python3.9/site-packages (from matplotlib->tf-models-official) (1.4.3)\n",
      "Requirement already satisfied: pyparsing>=2.2.1 in /home/gunpow/mambaforge/envs/tsgh-nlp-2022summer/lib/python3.9/site-packages (from matplotlib->tf-models-official) (3.0.9)\n",
      "Requirement already satisfied: rsa>=3.1.4 in /home/gunpow/mambaforge/envs/tsgh-nlp-2022summer/lib/python3.9/site-packages (from oauth2client->tf-models-official) (4.8)\n",
      "Requirement already satisfied: pyasn1>=0.1.7 in /home/gunpow/mambaforge/envs/tsgh-nlp-2022summer/lib/python3.9/site-packages (from oauth2client->tf-models-official) (0.4.8)\n",
      "Requirement already satisfied: pyasn1-modules>=0.0.5 in /home/gunpow/mambaforge/envs/tsgh-nlp-2022summer/lib/python3.9/site-packages (from oauth2client->tf-models-official) (0.2.8)\n",
      "Requirement already satisfied: colorama in /home/gunpow/mambaforge/envs/tsgh-nlp-2022summer/lib/python3.9/site-packages (from sacrebleu->tf-models-official) (0.4.5)\n",
      "Requirement already satisfied: regex in /home/gunpow/mambaforge/envs/tsgh-nlp-2022summer/lib/python3.9/site-packages (from sacrebleu->tf-models-official) (2022.7.9)\n",
      "Requirement already satisfied: tabulate>=0.8.9 in /home/gunpow/mambaforge/envs/tsgh-nlp-2022summer/lib/python3.9/site-packages (from sacrebleu->tf-models-official) (0.8.10)\n",
      "Requirement already satisfied: portalocker in /home/gunpow/mambaforge/envs/tsgh-nlp-2022summer/lib/python3.9/site-packages (from sacrebleu->tf-models-official) (2.5.1)\n",
      "Requirement already satisfied: scikit-learn>=0.21.3 in /home/gunpow/mambaforge/envs/tsgh-nlp-2022summer/lib/python3.9/site-packages (from seqeval->tf-models-official) (1.1.1)\n",
      "Requirement already satisfied: typeguard>=2.7 in /home/gunpow/mambaforge/envs/tsgh-nlp-2022summer/lib/python3.9/site-packages (from tensorflow-addons->tf-models-official) (2.13.3)\n",
      "Requirement already satisfied: tensorflow-metadata in /home/gunpow/mambaforge/envs/tsgh-nlp-2022summer/lib/python3.9/site-packages (from tensorflow-datasets->tf-models-official) (1.9.0)\n",
      "Requirement already satisfied: promise in /home/gunpow/mambaforge/envs/tsgh-nlp-2022summer/lib/python3.9/site-packages (from tensorflow-datasets->tf-models-official) (2.3)\n",
      "Requirement already satisfied: toml in /home/gunpow/mambaforge/envs/tsgh-nlp-2022summer/lib/python3.9/site-packages (from tensorflow-datasets->tf-models-official) (0.10.2)\n",
      "Requirement already satisfied: etils[epath] in /home/gunpow/mambaforge/envs/tsgh-nlp-2022summer/lib/python3.9/site-packages (from tensorflow-datasets->tf-models-official) (0.6.0)\n",
      "Requirement already satisfied: dill in /home/gunpow/mambaforge/envs/tsgh-nlp-2022summer/lib/python3.9/site-packages (from tensorflow-datasets->tf-models-official) (0.3.5.1)\n",
      "Requirement already satisfied: wheel<1.0,>=0.23.0 in /home/gunpow/mambaforge/envs/tsgh-nlp-2022summer/lib/python3.9/site-packages (from astunparse>=1.6.0->tensorflow<2.10,>=2.9.0->tensorflow-text) (0.37.1)\n",
      "Requirement already satisfied: googleapis-common-protos<2.0dev,>=1.56.2 in /home/gunpow/mambaforge/envs/tsgh-nlp-2022summer/lib/python3.9/site-packages (from google-api-core!=2.0.*,!=2.1.*,!=2.2.*,!=2.3.0,<3.0.0dev,>=1.31.5->google-api-python-client>=1.6.7->tf-models-official) (1.56.3)\n",
      "Requirement already satisfied: cachetools<6.0,>=2.0.0 in /home/gunpow/mambaforge/envs/tsgh-nlp-2022summer/lib/python3.9/site-packages (from google-auth<3.0.0dev,>=1.19.0->google-api-python-client>=1.6.7->tf-models-official) (5.2.0)\n",
      "Requirement already satisfied: charset-normalizer<3,>=2 in /home/gunpow/mambaforge/envs/tsgh-nlp-2022summer/lib/python3.9/site-packages (from requests->kaggle>=1.3.9->tf-models-official) (2.1.0)\n",
      "Requirement already satisfied: idna<4,>=2.5 in /home/gunpow/mambaforge/envs/tsgh-nlp-2022summer/lib/python3.9/site-packages (from requests->kaggle>=1.3.9->tf-models-official) (3.3)\n",
      "Requirement already satisfied: threadpoolctl>=2.0.0 in /home/gunpow/mambaforge/envs/tsgh-nlp-2022summer/lib/python3.9/site-packages (from scikit-learn>=0.21.3->seqeval->tf-models-official) (3.1.0)\n",
      "Requirement already satisfied: joblib>=1.0.0 in /home/gunpow/mambaforge/envs/tsgh-nlp-2022summer/lib/python3.9/site-packages (from scikit-learn>=0.21.3->seqeval->tf-models-official) (1.1.0)\n",
      "Requirement already satisfied: markdown>=2.6.8 in /home/gunpow/mambaforge/envs/tsgh-nlp-2022summer/lib/python3.9/site-packages (from tensorboard<2.10,>=2.9->tensorflow<2.10,>=2.9.0->tensorflow-text) (3.3.7)\n",
      "Requirement already satisfied: google-auth-oauthlib<0.5,>=0.4.1 in /home/gunpow/mambaforge/envs/tsgh-nlp-2022summer/lib/python3.9/site-packages (from tensorboard<2.10,>=2.9->tensorflow<2.10,>=2.9.0->tensorflow-text) (0.4.6)\n",
      "Requirement already satisfied: tensorboard-data-server<0.7.0,>=0.6.0 in /home/gunpow/mambaforge/envs/tsgh-nlp-2022summer/lib/python3.9/site-packages (from tensorboard<2.10,>=2.9->tensorflow<2.10,>=2.9.0->tensorflow-text) (0.6.1)\n",
      "Requirement already satisfied: werkzeug>=1.0.1 in /home/gunpow/mambaforge/envs/tsgh-nlp-2022summer/lib/python3.9/site-packages (from tensorboard<2.10,>=2.9->tensorflow<2.10,>=2.9.0->tensorflow-text) (2.1.2)\n",
      "Requirement already satisfied: tensorboard-plugin-wit>=1.6.0 in /home/gunpow/mambaforge/envs/tsgh-nlp-2022summer/lib/python3.9/site-packages (from tensorboard<2.10,>=2.9->tensorflow<2.10,>=2.9.0->tensorflow-text) (1.8.1)\n",
      "Requirement already satisfied: importlib_resources in /home/gunpow/mambaforge/envs/tsgh-nlp-2022summer/lib/python3.9/site-packages (from etils[epath]->tensorflow-datasets->tf-models-official) (5.8.0)\n",
      "Requirement already satisfied: zipp in /home/gunpow/mambaforge/envs/tsgh-nlp-2022summer/lib/python3.9/site-packages (from etils[epath]->tensorflow-datasets->tf-models-official) (3.8.0)\n",
      "Requirement already satisfied: text-unidecode>=1.3 in /home/gunpow/mambaforge/envs/tsgh-nlp-2022summer/lib/python3.9/site-packages (from python-slugify->kaggle>=1.3.9->tf-models-official) (1.3)\n",
      "Requirement already satisfied: requests-oauthlib>=0.7.0 in /home/gunpow/mambaforge/envs/tsgh-nlp-2022summer/lib/python3.9/site-packages (from google-auth-oauthlib<0.5,>=0.4.1->tensorboard<2.10,>=2.9->tensorflow<2.10,>=2.9.0->tensorflow-text) (1.3.1)\n",
      "Requirement already satisfied: importlib-metadata>=4.4 in /home/gunpow/mambaforge/envs/tsgh-nlp-2022summer/lib/python3.9/site-packages (from markdown>=2.6.8->tensorboard<2.10,>=2.9->tensorflow<2.10,>=2.9.0->tensorflow-text) (4.11.4)\n",
      "Requirement already satisfied: oauthlib>=3.0.0 in /home/gunpow/mambaforge/envs/tsgh-nlp-2022summer/lib/python3.9/site-packages (from requests-oauthlib>=0.7.0->google-auth-oauthlib<0.5,>=0.4.1->tensorboard<2.10,>=2.9->tensorflow<2.10,>=2.9.0->tensorflow-text) (3.2.0)\n",
      "Note: you may need to restart the kernel to use updated packages.\n"
     ]
    }
   ],
   "source": [
    "%pip install tensorflow-text tf-models-official tensorflow_hub"
   ]
  },
  {
   "cell_type": "code",
   "execution_count": 3,
   "metadata": {},
   "outputs": [],
   "source": [
    "import os\n",
    "import shutil\n",
    "import tensorflow as tf\n",
    "import tensorflow_hub as hub\n",
    "import tensorflow_text as text\n",
    "from official.nlp import optimization  # to create AdamW optimizer\n",
    "import matplotlib.pyplot as plt\n",
    "\n",
    "tf.get_logger().setLevel('ERROR')"
   ]
  },
  {
   "cell_type": "code",
   "execution_count": 4,
   "metadata": {},
   "outputs": [
    {
     "name": "stdout",
     "output_type": "stream",
     "text": [
      "1 Physical GPUs, 1 Logical GPU\n"
     ]
    },
    {
     "name": "stderr",
     "output_type": "stream",
     "text": [
      "2022-07-11 15:01:30.068695: I tensorflow/stream_executor/cuda/cuda_gpu_executor.cc:975] successful NUMA node read from SysFS had negative value (-1), but there must be at least one NUMA node, so returning NUMA node zero\n",
      "2022-07-11 15:01:30.077113: I tensorflow/stream_executor/cuda/cuda_gpu_executor.cc:975] successful NUMA node read from SysFS had negative value (-1), but there must be at least one NUMA node, so returning NUMA node zero\n",
      "2022-07-11 15:01:30.077342: I tensorflow/stream_executor/cuda/cuda_gpu_executor.cc:975] successful NUMA node read from SysFS had negative value (-1), but there must be at least one NUMA node, so returning NUMA node zero\n",
      "2022-07-11 15:01:30.078285: I tensorflow/core/platform/cpu_feature_guard.cc:193] This TensorFlow binary is optimized with oneAPI Deep Neural Network Library (oneDNN) to use the following CPU instructions in performance-critical operations:  AVX2 FMA\n",
      "To enable them in other operations, rebuild TensorFlow with the appropriate compiler flags.\n",
      "2022-07-11 15:01:30.078622: I tensorflow/stream_executor/cuda/cuda_gpu_executor.cc:975] successful NUMA node read from SysFS had negative value (-1), but there must be at least one NUMA node, so returning NUMA node zero\n",
      "2022-07-11 15:01:30.078833: I tensorflow/stream_executor/cuda/cuda_gpu_executor.cc:975] successful NUMA node read from SysFS had negative value (-1), but there must be at least one NUMA node, so returning NUMA node zero\n",
      "2022-07-11 15:01:30.079003: I tensorflow/stream_executor/cuda/cuda_gpu_executor.cc:975] successful NUMA node read from SysFS had negative value (-1), but there must be at least one NUMA node, so returning NUMA node zero\n",
      "2022-07-11 15:01:30.806850: I tensorflow/stream_executor/cuda/cuda_gpu_executor.cc:975] successful NUMA node read from SysFS had negative value (-1), but there must be at least one NUMA node, so returning NUMA node zero\n",
      "2022-07-11 15:01:30.807084: I tensorflow/stream_executor/cuda/cuda_gpu_executor.cc:975] successful NUMA node read from SysFS had negative value (-1), but there must be at least one NUMA node, so returning NUMA node zero\n",
      "2022-07-11 15:01:30.807259: I tensorflow/stream_executor/cuda/cuda_gpu_executor.cc:975] successful NUMA node read from SysFS had negative value (-1), but there must be at least one NUMA node, so returning NUMA node zero\n",
      "2022-07-11 15:01:30.807399: I tensorflow/core/common_runtime/gpu/gpu_device.cc:1532] Created device /job:localhost/replica:0/task:0/device:GPU:0 with 9633 MB memory:  -> device: 0, name: NVIDIA GeForce RTX 2080 Ti, pci bus id: 0000:02:00.0, compute capability: 7.5\n"
     ]
    }
   ],
   "source": [
    "gpus = tf.config.list_physical_devices('GPU')\n",
    "if gpus:\n",
    "  # Restrict TensorFlow to only use the first GPU\n",
    "  try:\n",
    "    tf.config.set_visible_devices(gpus[0], 'GPU')\n",
    "    logical_gpus = tf.config.list_logical_devices('GPU')\n",
    "    print(len(gpus), \"Physical GPUs,\", len(logical_gpus), \"Logical GPU\")\n",
    "  except RuntimeError as e:\n",
    "    # Visible devices must be set before GPUs have been initialized\n",
    "    print(e)"
   ]
  },
  {
   "cell_type": "markdown",
   "metadata": {},
   "source": [
    "## 下載IMDB資料庫做為DEMO使用"
   ]
  },
  {
   "cell_type": "code",
   "execution_count": 5,
   "metadata": {},
   "outputs": [],
   "source": [
    "url = 'https://ai.stanford.edu/~amaas/data/sentiment/aclImdb_v1.tar.gz'\n",
    "\n",
    "dataset = tf.keras.utils.get_file('aclImdb_v1.tar.gz', url,\n",
    "                                  untar=True, cache_dir='.',\n",
    "                                  cache_subdir='')\n",
    "\n",
    "dataset_dir = os.path.join(os.path.dirname(dataset), 'aclImdb')\n",
    "\n",
    "train_dir = os.path.join(dataset_dir, 'train')\n",
    "\n",
    "# remove unused folders to make it easier to load the data\n",
    "remove_dir = os.path.join(train_dir, 'unsup')\n",
    "shutil.rmtree(remove_dir)"
   ]
  },
  {
   "cell_type": "markdown",
   "metadata": {},
   "source": [
    "### 使用tf.data.AUTOTUNE動態優化資料讀取\n",
    "<img src='https://www.tensorflow.org/guide/images/data_performance/prefetched.svg'>"
   ]
  },
  {
   "cell_type": "code",
   "execution_count": null,
   "metadata": {},
   "outputs": [],
   "source": [
    "AUTOTUNE = tf.data.AUTOTUNE # * 動態優化\n",
    "batch_size = 32\n",
    "seed = 42\n",
    "\n",
    "raw_train_ds = tf.keras.utils.text_dataset_from_directory(\n",
    "    'aclImdb/train',\n",
    "    batch_size=batch_size,\n",
    "    validation_split=0.2,\n",
    "    subset='training',\n",
    "    seed=seed)\n",
    "\n",
    "class_names = raw_train_ds.class_names\n",
    "train_ds = raw_train_ds.cache().prefetch(buffer_size=AUTOTUNE)\n",
    "\n",
    "val_ds = tf.keras.utils.text_dataset_from_directory(\n",
    "    'aclImdb/train',\n",
    "    batch_size=batch_size,\n",
    "    validation_split=0.2,\n",
    "    subset='validation',\n",
    "    seed=seed)\n",
    "\n",
    "val_ds = val_ds.cache().prefetch(buffer_size=AUTOTUNE)\n",
    "\n",
    "test_ds = tf.keras.utils.text_dataset_from_directory(\n",
    "    'aclImdb/test',\n",
    "    batch_size=batch_size)\n",
    "\n",
    "test_ds = test_ds.cache().prefetch(buffer_size=AUTOTUNE)"
   ]
  },
  {
   "cell_type": "code",
   "execution_count": null,
   "metadata": {},
   "outputs": [],
   "source": [
    "for text_batch, label_batch in train_ds.take(1):\n",
    "  for i in range(3):\n",
    "    print(f'Review: {text_batch.numpy()[i]}')\n",
    "    label = label_batch.numpy()[i]\n",
    "    print(f'Label : {label} ({class_names[label]})')"
   ]
  },
  {
   "cell_type": "markdown",
   "metadata": {},
   "source": [
    "## 從 Tensorflow Hub 抓取 Model (BERT)\n",
    "<img src='https://imgur.com/YY0lE5s.png'>"
   ]
  },
  {
   "cell_type": "code",
   "execution_count": null,
   "metadata": {},
   "outputs": [],
   "source": [
    "tfhub_handle_encoder = 'https://tfhub.dev/tensorflow/bert_en_uncased_L-12_H-768_A-12/4'\n",
    "tfhub_handle_preprocess = 'https://tfhub.dev/tensorflow/bert_en_uncased_preprocess/3'"
   ]
  },
  {
   "cell_type": "code",
   "execution_count": null,
   "metadata": {},
   "outputs": [],
   "source": [
    "bert_preprocess_model = hub.KerasLayer(tfhub_handle_preprocess)"
   ]
  },
  {
   "cell_type": "code",
   "execution_count": null,
   "metadata": {},
   "outputs": [],
   "source": [
    "text_test = ['this is such an amazing movie!']\n",
    "text_preprocessed = bert_preprocess_model(text_test)\n",
    "\n",
    "print(f'Keys       : {list(text_preprocessed.keys())}')\n",
    "print(f'Shape      : {text_preprocessed[\"input_word_ids\"].shape}')\n",
    "print(f'Word Ids   : {text_preprocessed[\"input_word_ids\"][0, :12]}')\n",
    "print(f'Input Mask : {text_preprocessed[\"input_mask\"][0, :12]}')\n",
    "print(f'Type Ids   : {text_preprocessed[\"input_type_ids\"][0, :12]}')"
   ]
  },
  {
   "cell_type": "code",
   "execution_count": null,
   "metadata": {},
   "outputs": [],
   "source": [
    "bert_model = hub.KerasLayer(tfhub_handle_encoder)"
   ]
  },
  {
   "cell_type": "code",
   "execution_count": null,
   "metadata": {},
   "outputs": [],
   "source": [
    "bert_results = bert_model(text_preprocessed)\n",
    "\n",
    "print(f'Loaded BERT: {tfhub_handle_encoder}')\n",
    "print(f'Pooled Outputs Shape:{bert_results[\"pooled_output\"].shape}')\n",
    "print(f'Pooled Outputs Values:{bert_results[\"pooled_output\"][0, :12]}')\n",
    "print(f'Sequence Outputs Shape:{bert_results[\"sequence_output\"].shape}')\n",
    "print(f'Sequence Outputs Values:{bert_results[\"sequence_output\"][0, :12]}')"
   ]
  },
  {
   "cell_type": "markdown",
   "metadata": {},
   "source": [
    "## 設計自己的Model"
   ]
  },
  {
   "cell_type": "code",
   "execution_count": null,
   "metadata": {},
   "outputs": [],
   "source": [
    "def build_classifier_model():\n",
    "  text_input = tf.keras.layers.Input(shape=(), dtype=tf.string, name='text')\n",
    "  preprocessing_layer = hub.KerasLayer(tfhub_handle_preprocess, name='preprocessing')\n",
    "  encoder_inputs = preprocessing_layer(text_input)\n",
    "  encoder = hub.KerasLayer(tfhub_handle_encoder, trainable=True, name='BERT_encoder')\n",
    "  outputs = encoder(encoder_inputs)\n",
    "  net = outputs['pooled_output']\n",
    "  net = tf.keras.layers.Dropout(0.1)(net)\n",
    "  net = tf.keras.layers.Dense(1, activation=None, name='classifier')(net)\n",
    "  return tf.keras.Model(text_input, net)"
   ]
  },
  {
   "cell_type": "code",
   "execution_count": null,
   "metadata": {},
   "outputs": [],
   "source": [
    "classifier_model = build_classifier_model()\n",
    "bert_raw_result = classifier_model(tf.constant(text_test))\n",
    "print(tf.sigmoid(bert_raw_result))"
   ]
  },
  {
   "cell_type": "code",
   "execution_count": null,
   "metadata": {},
   "outputs": [],
   "source": [
    "classifier_model.summary()"
   ]
  },
  {
   "cell_type": "markdown",
   "metadata": {},
   "source": [
    "## 訓練模型 (fine-tune)"
   ]
  },
  {
   "cell_type": "code",
   "execution_count": null,
   "metadata": {},
   "outputs": [],
   "source": [
    "loss = tf.keras.losses.BinaryCrossentropy(from_logits=True)\n",
    "metrics = tf.metrics.BinaryAccuracy()"
   ]
  },
  {
   "cell_type": "code",
   "execution_count": null,
   "metadata": {},
   "outputs": [],
   "source": [
    "epochs = 5\n",
    "steps_per_epoch = tf.data.experimental.cardinality(train_ds).numpy()\n",
    "num_train_steps = steps_per_epoch * epochs\n",
    "num_warmup_steps = int(0.1*num_train_steps)\n",
    "\n",
    "init_lr = 3e-5\n",
    "optimizer = optimization.create_optimizer(init_lr=init_lr,\n",
    "                                          num_train_steps=num_train_steps,\n",
    "                                          num_warmup_steps=num_warmup_steps,\n",
    "                                          optimizer_type='adamw')"
   ]
  },
  {
   "cell_type": "markdown",
   "metadata": {},
   "source": [
    "### 載入前面提到的BERT模型"
   ]
  },
  {
   "cell_type": "code",
   "execution_count": null,
   "metadata": {},
   "outputs": [],
   "source": [
    "classifier_model.compile(optimizer=optimizer,\n",
    "                         loss=loss,\n",
    "                         metrics=metrics)"
   ]
  },
  {
   "cell_type": "markdown",
   "metadata": {},
   "source": [
    "### 啟動 tensorboard\n",
    "<img src='https://www.tensorflow.org/tensorboard/images/tensorboard.gif?hl=zh-tw'>"
   ]
  },
  {
   "cell_type": "code",
   "execution_count": null,
   "metadata": {},
   "outputs": [],
   "source": [
    "import datetime\n",
    "log_dir = \"logs/fit/\" + datetime.datetime.now().strftime(\"%Y%m%d-%H%M%S\")\n",
    "tensorboard_callback = tf.keras.callbacks.TensorBoard(log_dir=log_dir, histogram_freq=1)"
   ]
  },
  {
   "cell_type": "code",
   "execution_count": null,
   "metadata": {},
   "outputs": [],
   "source": [
    "print(f'Training model with {tfhub_handle_encoder}')\n",
    "history = classifier_model.fit(x=train_ds,\n",
    "                               validation_data=val_ds,\n",
    "                               epochs=epochs,\n",
    "                               callbacks=[tensorboard_callback])"
   ]
  },
  {
   "cell_type": "code",
   "execution_count": null,
   "metadata": {},
   "outputs": [],
   "source": []
  }
 ],
 "metadata": {
  "kernelspec": {
   "display_name": "Python 3.9.13 ('tsgh-nlp-2022summer')",
   "language": "python",
   "name": "python3"
  },
  "language_info": {
   "codemirror_mode": {
    "name": "ipython",
    "version": 3
   },
   "file_extension": ".py",
   "mimetype": "text/x-python",
   "name": "python",
   "nbconvert_exporter": "python",
   "pygments_lexer": "ipython3",
   "version": "3.9.13"
  },
  "orig_nbformat": 4,
  "vscode": {
   "interpreter": {
    "hash": "d9184193e916d3195472f5df965020f6bca3f1b3f47f6241db78f4d23b388119"
   }
  }
 },
 "nbformat": 4,
 "nbformat_minor": 2
}
